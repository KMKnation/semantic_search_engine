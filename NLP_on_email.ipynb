{
 "cells": [
  {
   "cell_type": "code",
   "execution_count": 4,
   "metadata": {},
   "outputs": [],
   "source": [
    "import imaplib\n",
    "import os\n",
    "import email\n",
    "import matplotlib.pyplot as plt\n",
    "import pandas as pd\n",
    "# import db_manager"
   ]
  },
  {
   "cell_type": "code",
   "execution_count": 5,
   "metadata": {},
   "outputs": [],
   "source": [
    "def remove_html_tags(text):\n",
    "    \"\"\"Remove html tags from a string\"\"\"\n",
    "    import re\n",
    "    clean = re.compile('<.*?>')\n",
    "    return re.sub(clean, '', text)"
   ]
  },
  {
   "cell_type": "code",
   "execution_count": 7,
   "metadata": {},
   "outputs": [],
   "source": [
    "df = pd.read_csv('data.csv')"
   ]
  },
  {
   "cell_type": "code",
   "execution_count": 8,
   "metadata": {},
   "outputs": [
    {
     "data": {
      "text/html": [
       "<div>\n",
       "<style scoped>\n",
       "    .dataframe tbody tr th:only-of-type {\n",
       "        vertical-align: middle;\n",
       "    }\n",
       "\n",
       "    .dataframe tbody tr th {\n",
       "        vertical-align: top;\n",
       "    }\n",
       "\n",
       "    .dataframe thead th {\n",
       "        text-align: right;\n",
       "    }\n",
       "</style>\n",
       "<table border=\"1\" class=\"dataframe\">\n",
       "  <thead>\n",
       "    <tr style=\"text-align: right;\">\n",
       "      <th></th>\n",
       "      <th>Unnamed: 0</th>\n",
       "      <th>email_id</th>\n",
       "      <th>subject</th>\n",
       "      <th>content</th>\n",
       "      <th>cluster</th>\n",
       "    </tr>\n",
       "  </thead>\n",
       "  <tbody>\n",
       "    <tr>\n",
       "      <th>0</th>\n",
       "      <td>0</td>\n",
       "      <td>17507c6cd2f5de5a</td>\n",
       "      <td>Hello Mayur, Please use the below Login Code t...</td>\n",
       "      <td>SGVsbG8gPHN0cm9uZz5NYXl1cjwvc3Ryb25nPiw8YnI-PG...</td>\n",
       "      <td>0</td>\n",
       "    </tr>\n",
       "    <tr>\n",
       "      <th>1</th>\n",
       "      <td>1</td>\n",
       "      <td>175078fa6fa568ee</td>\n",
       "      <td>Hey KMKnation! A third-party OAuth application...</td>\n",
       "      <td>SGV5IEtNS25hdGlvbiENCg0KQSB0aGlyZC1wYXJ0eSBPQX...</td>\n",
       "      <td>0</td>\n",
       "    </tr>\n",
       "    <tr>\n",
       "      <th>2</th>\n",
       "      <td>2</td>\n",
       "      <td>175076ed7c8139a7</td>\n",
       "      <td>Hi Mayur Kanojiya, 1357 users successfully sol...</td>\n",
       "      <td>PCFET0NUWVBFIGh0bWwgUFVCTElDICItLy9XM0MvL0RURC...</td>\n",
       "      <td>0</td>\n",
       "    </tr>\n",
       "    <tr>\n",
       "      <th>3</th>\n",
       "      <td>3</td>\n",
       "      <td>1750750fadae357a</td>\n",
       "      <td>Speakers Facebook Twitter Linkedin Instagram y...</td>\n",
       "      <td>PCFET0NUWVBFIGh0bWwNCglQVUJMSUMgIi0vL1czQy8vRF...</td>\n",
       "      <td>0</td>\n",
       "    </tr>\n",
       "    <tr>\n",
       "      <th>4</th>\n",
       "      <td>4</td>\n",
       "      <td>175070e2e853644e</td>\n",
       "      <td>Presenting OST: Official Snack Time on Swiggy ...</td>\n",
       "      <td>PCFET0NUWVBFIGh0bWwgUFVCTElDICItLy9XM0MvL0RURC...</td>\n",
       "      <td>0</td>\n",
       "    </tr>\n",
       "  </tbody>\n",
       "</table>\n",
       "</div>"
      ],
      "text/plain": [
       "   Unnamed: 0          email_id  \\\n",
       "0           0  17507c6cd2f5de5a   \n",
       "1           1  175078fa6fa568ee   \n",
       "2           2  175076ed7c8139a7   \n",
       "3           3  1750750fadae357a   \n",
       "4           4  175070e2e853644e   \n",
       "\n",
       "                                             subject  \\\n",
       "0  Hello Mayur, Please use the below Login Code t...   \n",
       "1  Hey KMKnation! A third-party OAuth application...   \n",
       "2  Hi Mayur Kanojiya, 1357 users successfully sol...   \n",
       "3  Speakers Facebook Twitter Linkedin Instagram y...   \n",
       "4  Presenting OST: Official Snack Time on Swiggy ...   \n",
       "\n",
       "                                             content  cluster  \n",
       "0  SGVsbG8gPHN0cm9uZz5NYXl1cjwvc3Ryb25nPiw8YnI-PG...        0  \n",
       "1  SGV5IEtNS25hdGlvbiENCg0KQSB0aGlyZC1wYXJ0eSBPQX...        0  \n",
       "2  PCFET0NUWVBFIGh0bWwgUFVCTElDICItLy9XM0MvL0RURC...        0  \n",
       "3  PCFET0NUWVBFIGh0bWwNCglQVUJMSUMgIi0vL1czQy8vRF...        0  \n",
       "4  PCFET0NUWVBFIGh0bWwgUFVCTElDICItLy9XM0MvL0RURC...        0  "
      ]
     },
     "execution_count": 8,
     "metadata": {},
     "output_type": "execute_result"
    }
   ],
   "source": [
    "df.head()"
   ]
  },
  {
   "cell_type": "code",
   "execution_count": 9,
   "metadata": {},
   "outputs": [
    {
     "data": {
      "text/plain": [
       "(2473, 5)"
      ]
     },
     "execution_count": 9,
     "metadata": {},
     "output_type": "execute_result"
    }
   ],
   "source": [
    "df.shape"
   ]
  },
  {
   "cell_type": "code",
   "execution_count": 10,
   "metadata": {},
   "outputs": [],
   "source": [
    "from sklearn.feature_extraction.text import TfidfVectorizer\n",
    "import nltk\n",
    "import string\n",
    "import re"
   ]
  },
  {
   "cell_type": "code",
   "execution_count": 11,
   "metadata": {},
   "outputs": [],
   "source": [
    "# nltk.download('all')"
   ]
  },
  {
   "cell_type": "code",
   "execution_count": 12,
   "metadata": {},
   "outputs": [
    {
     "name": "stdout",
     "output_type": "stream",
     "text": [
      "[nltk_data] Downloading package stopwords to /home/hb/nltk_data...\n",
      "[nltk_data]   Package stopwords is already up-to-date!\n"
     ]
    }
   ],
   "source": [
    "nltk.download('stopwords')\n",
    "##Remove stopwords (does not contribute much in sentence)\n",
    "stopword = nltk.corpus.stopwords.words('english')"
   ]
  },
  {
   "cell_type": "code",
   "execution_count": 13,
   "metadata": {},
   "outputs": [],
   "source": [
    "def clean_text(text):\n",
    "    text = str(text).replace('[image: Google]', '')\n",
    "    text_nopunct = \"\".join([char for char in text if char not in string.punctuation])\n",
    "    tokens = re.split('\\W+', text_nopunct)\n",
    "    tokens = [word.lower() for word in tokens]\n",
    "    text = [word for word in tokens if word not in stopword]\n",
    "    text = [word for word in text if len(word) > 1]\n",
    "    \n",
    "    return text\n"
   ]
  },
  {
   "cell_type": "code",
   "execution_count": 14,
   "metadata": {},
   "outputs": [],
   "source": [
    "df['clean'] = df['subject'].apply(lambda x: clean_text(x))"
   ]
  },
  {
   "cell_type": "code",
   "execution_count": 15,
   "metadata": {},
   "outputs": [
    {
     "data": {
      "text/html": [
       "<div>\n",
       "<style scoped>\n",
       "    .dataframe tbody tr th:only-of-type {\n",
       "        vertical-align: middle;\n",
       "    }\n",
       "\n",
       "    .dataframe tbody tr th {\n",
       "        vertical-align: top;\n",
       "    }\n",
       "\n",
       "    .dataframe thead th {\n",
       "        text-align: right;\n",
       "    }\n",
       "</style>\n",
       "<table border=\"1\" class=\"dataframe\">\n",
       "  <thead>\n",
       "    <tr style=\"text-align: right;\">\n",
       "      <th></th>\n",
       "      <th>subject</th>\n",
       "      <th>clean</th>\n",
       "    </tr>\n",
       "  </thead>\n",
       "  <tbody>\n",
       "    <tr>\n",
       "      <th>0</th>\n",
       "      <td>Hello Mayur, Please use the below Login Code t...</td>\n",
       "      <td>[hello, mayur, please, use, login, code, log, ...</td>\n",
       "    </tr>\n",
       "    <tr>\n",
       "      <th>1</th>\n",
       "      <td>Hey KMKnation! A third-party OAuth application...</td>\n",
       "      <td>[hey, kmknation, thirdparty, oauth, applicatio...</td>\n",
       "    </tr>\n",
       "    <tr>\n",
       "      <th>2</th>\n",
       "      <td>Hi Mayur Kanojiya, 1357 users successfully sol...</td>\n",
       "      <td>[hi, mayur, kanojiya, 1357, users, successfull...</td>\n",
       "    </tr>\n",
       "    <tr>\n",
       "      <th>3</th>\n",
       "      <td>Speakers Facebook Twitter Linkedin Instagram y...</td>\n",
       "      <td>[speakers, facebook, twitter, linkedin, instag...</td>\n",
       "    </tr>\n",
       "    <tr>\n",
       "      <th>4</th>\n",
       "      <td>Presenting OST: Official Snack Time on Swiggy ...</td>\n",
       "      <td>[presenting, ost, official, snack, time, swigg...</td>\n",
       "    </tr>\n",
       "  </tbody>\n",
       "</table>\n",
       "</div>"
      ],
      "text/plain": [
       "                                             subject  \\\n",
       "0  Hello Mayur, Please use the below Login Code t...   \n",
       "1  Hey KMKnation! A third-party OAuth application...   \n",
       "2  Hi Mayur Kanojiya, 1357 users successfully sol...   \n",
       "3  Speakers Facebook Twitter Linkedin Instagram y...   \n",
       "4  Presenting OST: Official Snack Time on Swiggy ...   \n",
       "\n",
       "                                               clean  \n",
       "0  [hello, mayur, please, use, login, code, log, ...  \n",
       "1  [hey, kmknation, thirdparty, oauth, applicatio...  \n",
       "2  [hi, mayur, kanojiya, 1357, users, successfull...  \n",
       "3  [speakers, facebook, twitter, linkedin, instag...  \n",
       "4  [presenting, ost, official, snack, time, swigg...  "
      ]
     },
     "execution_count": 15,
     "metadata": {},
     "output_type": "execute_result"
    }
   ],
   "source": [
    "df[['subject','clean']].head()"
   ]
  },
  {
   "cell_type": "code",
   "execution_count": 16,
   "metadata": {},
   "outputs": [],
   "source": [
    "vectorizer = TfidfVectorizer(stop_words='english', analyzer=clean_text)"
   ]
  },
  {
   "cell_type": "code",
   "execution_count": 17,
   "metadata": {},
   "outputs": [
    {
     "name": "stdout",
     "output_type": "stream",
     "text": [
      "\n",
      " Feature names Identified :\n",
      "\n"
     ]
    }
   ],
   "source": [
    "data_matrix=vectorizer.fit_transform(df['subject'])\n",
    "print(\"\\n Feature names Identified :\\n\")\n",
    "# print(vectorizer.get_feature_names())"
   ]
  },
  {
   "cell_type": "code",
   "execution_count": 24,
   "metadata": {},
   "outputs": [
    {
     "data": {
      "text/plain": [
       "['apart',\n",
       " 'apartment',\n",
       " 'apartments',\n",
       " 'apexsqlsalesforcedatabasejavaxmlcrmsfdc',\n",
       " 'api',\n",
       " 'apihtml5sql',\n",
       " 'apimobileintellijajaxjavascriptgradlegitxmldebugginghtml',\n",
       " 'apimvctechnical',\n",
       " 'apiobject',\n",
       " 'apl']"
      ]
     },
     "execution_count": 24,
     "metadata": {},
     "output_type": "execute_result"
    }
   ],
   "source": [
    "vectorizer.get_feature_names()[1000:1010]"
   ]
  },
  {
   "cell_type": "code",
   "execution_count": 17,
   "metadata": {},
   "outputs": [
    {
     "data": {
      "text/plain": [
       "(2473, 5812)"
      ]
     },
     "execution_count": 17,
     "metadata": {},
     "output_type": "execute_result"
    }
   ],
   "source": [
    "data_matrix.shape"
   ]
  },
  {
   "cell_type": "code",
   "execution_count": 21,
   "metadata": {},
   "outputs": [],
   "source": [
    "sentence = \"Your account is listed as the recovery email for  Dont recognize this account?\"\n",
    "sentence_vector = vectorizer.transform([sentence])\n"
   ]
  },
  {
   "cell_type": "code",
   "execution_count": 24,
   "metadata": {},
   "outputs": [
    {
     "data": {
      "text/plain": [
       "<1x5812 sparse matrix of type '<class 'numpy.float64'>'\n",
       "\twith 3 stored elements in Compressed Sparse Row format>"
      ]
     },
     "execution_count": 24,
     "metadata": {},
     "output_type": "execute_result"
    }
   ],
   "source": [
    "sentence_vector"
   ]
  },
  {
   "cell_type": "code",
   "execution_count": null,
   "metadata": {},
   "outputs": [],
   "source": []
  }
 ],
 "metadata": {
  "kernelspec": {
   "display_name": "Python 3",
   "language": "python",
   "name": "python3"
  },
  "language_info": {
   "codemirror_mode": {
    "name": "ipython",
    "version": 3
   },
   "file_extension": ".py",
   "mimetype": "text/x-python",
   "name": "python",
   "nbconvert_exporter": "python",
   "pygments_lexer": "ipython3",
   "version": "3.5.2"
  }
 },
 "nbformat": 4,
 "nbformat_minor": 2
}
