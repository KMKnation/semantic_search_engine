{
 "cells": [
  {
   "cell_type": "code",
   "execution_count": 2,
   "metadata": {},
   "outputs": [],
   "source": [
    "import imaplib\n",
    "import os\n",
    "import email\n",
    "import matplotlib.pyplot as plt\n",
    "import pandas as pd\n",
    "# import db_manager"
   ]
  },
  {
   "cell_type": "code",
   "execution_count": 3,
   "metadata": {},
   "outputs": [],
   "source": [
    "from bs4 import BeautifulSoup"
   ]
  },
  {
   "cell_type": "code",
   "execution_count": 4,
   "metadata": {},
   "outputs": [],
   "source": [
    "df = pd.read_csv('data.csv')"
   ]
  },
  {
   "cell_type": "code",
   "execution_count": 5,
   "metadata": {},
   "outputs": [
    {
     "data": {
      "text/html": [
       "<div>\n",
       "<style scoped>\n",
       "    .dataframe tbody tr th:only-of-type {\n",
       "        vertical-align: middle;\n",
       "    }\n",
       "\n",
       "    .dataframe tbody tr th {\n",
       "        vertical-align: top;\n",
       "    }\n",
       "\n",
       "    .dataframe thead th {\n",
       "        text-align: right;\n",
       "    }\n",
       "</style>\n",
       "<table border=\"1\" class=\"dataframe\">\n",
       "  <thead>\n",
       "    <tr style=\"text-align: right;\">\n",
       "      <th></th>\n",
       "      <th>Unnamed: 0</th>\n",
       "      <th>email_id</th>\n",
       "      <th>subject</th>\n",
       "      <th>content</th>\n",
       "      <th>cluster</th>\n",
       "    </tr>\n",
       "  </thead>\n",
       "  <tbody>\n",
       "    <tr>\n",
       "      <th>0</th>\n",
       "      <td>0</td>\n",
       "      <td>1764d7d6cf405a4a</td>\n",
       "      <td>Hi Asfina, 50-90% discounts on Binoculars, Hig...</td>\n",
       "      <td>DQoNCg0KDQoNCjxodG1sPg0KPGhlYWQ-DQo8bWV0YSBodH...</td>\n",
       "      <td>0</td>\n",
       "    </tr>\n",
       "    <tr>\n",
       "      <th>1</th>\n",
       "      <td>1</td>\n",
       "      <td>1764c9755fb56cf6</td>\n",
       "      <td>Quickstart was granted access to your Google A...</td>\n",
       "      <td>UXVpY2tzdGFydCB3YXMgZ3JhbnRlZCBhY2Nlc3MgdG8geW...</td>\n",
       "      <td>0</td>\n",
       "    </tr>\n",
       "    <tr>\n",
       "      <th>2</th>\n",
       "      <td>2</td>\n",
       "      <td>1764a836a842398f</td>\n",
       "      <td>Hi Asfina, 🍳🔪 For your kitchen: 90% off trendi...</td>\n",
       "      <td>DQoNCg0KDQoNCjxodG1sPg0KPGhlYWQ-DQo8bWV0YSBodH...</td>\n",
       "      <td>0</td>\n",
       "    </tr>\n",
       "    <tr>\n",
       "      <th>3</th>\n",
       "      <td>3</td>\n",
       "      <td>1764872b30de4209</td>\n",
       "      <td>Hi Asfina, Laptop clearance? 💻 Get a laptop co...</td>\n",
       "      <td>DQoNCg0KDQoNCjxodG1sPg0KPGhlYWQ-DQo8bWV0YSBodH...</td>\n",
       "      <td>0</td>\n",
       "    </tr>\n",
       "    <tr>\n",
       "      <th>4</th>\n",
       "      <td>4</td>\n",
       "      <td>176451a1985a5fd6</td>\n",
       "      <td>Hi Asfina, We&amp;#39;re giving away 100 winter ha...</td>\n",
       "      <td>DQoNCg0KDQoNCjxodG1sPg0KPGhlYWQ-DQo8bWV0YSBodH...</td>\n",
       "      <td>0</td>\n",
       "    </tr>\n",
       "  </tbody>\n",
       "</table>\n",
       "</div>"
      ],
      "text/plain": [
       "   Unnamed: 0          email_id  \\\n",
       "0           0  1764d7d6cf405a4a   \n",
       "1           1  1764c9755fb56cf6   \n",
       "2           2  1764a836a842398f   \n",
       "3           3  1764872b30de4209   \n",
       "4           4  176451a1985a5fd6   \n",
       "\n",
       "                                             subject  \\\n",
       "0  Hi Asfina, 50-90% discounts on Binoculars, Hig...   \n",
       "1  Quickstart was granted access to your Google A...   \n",
       "2  Hi Asfina, 🍳🔪 For your kitchen: 90% off trendi...   \n",
       "3  Hi Asfina, Laptop clearance? 💻 Get a laptop co...   \n",
       "4  Hi Asfina, We&#39;re giving away 100 winter ha...   \n",
       "\n",
       "                                             content  cluster  \n",
       "0  DQoNCg0KDQoNCjxodG1sPg0KPGhlYWQ-DQo8bWV0YSBodH...        0  \n",
       "1  UXVpY2tzdGFydCB3YXMgZ3JhbnRlZCBhY2Nlc3MgdG8geW...        0  \n",
       "2  DQoNCg0KDQoNCjxodG1sPg0KPGhlYWQ-DQo8bWV0YSBodH...        0  \n",
       "3  DQoNCg0KDQoNCjxodG1sPg0KPGhlYWQ-DQo8bWV0YSBodH...        0  \n",
       "4  DQoNCg0KDQoNCjxodG1sPg0KPGhlYWQ-DQo8bWV0YSBodH...        0  "
      ]
     },
     "execution_count": 5,
     "metadata": {},
     "output_type": "execute_result"
    }
   ],
   "source": [
    "df.head()"
   ]
  },
  {
   "cell_type": "code",
   "execution_count": 6,
   "metadata": {},
   "outputs": [
    {
     "data": {
      "text/plain": [
       "(1206, 5)"
      ]
     },
     "execution_count": 6,
     "metadata": {},
     "output_type": "execute_result"
    }
   ],
   "source": [
    "df.shape"
   ]
  },
  {
   "cell_type": "code",
   "execution_count": 7,
   "metadata": {},
   "outputs": [],
   "source": [
    "import base64\n",
    "\n",
    "\n",
    "def decode(text):\n",
    "    if type(text) == float:\n",
    "        print(text)\n",
    "        return text\n",
    "    text = base64.urlsafe_b64decode(text).decode('utf-8')\n",
    "    return text"
   ]
  },
  {
   "cell_type": "code",
   "execution_count": 8,
   "metadata": {},
   "outputs": [
    {
     "name": "stdout",
     "output_type": "stream",
     "text": [
      "nan\n"
     ]
    }
   ],
   "source": [
    "df['content'] = df['content'].apply(lambda content: decode(content))"
   ]
  },
  {
   "cell_type": "code",
   "execution_count": 9,
   "metadata": {},
   "outputs": [
    {
     "data": {
      "text/html": [
       "<div>\n",
       "<style scoped>\n",
       "    .dataframe tbody tr th:only-of-type {\n",
       "        vertical-align: middle;\n",
       "    }\n",
       "\n",
       "    .dataframe tbody tr th {\n",
       "        vertical-align: top;\n",
       "    }\n",
       "\n",
       "    .dataframe thead th {\n",
       "        text-align: right;\n",
       "    }\n",
       "</style>\n",
       "<table border=\"1\" class=\"dataframe\">\n",
       "  <thead>\n",
       "    <tr style=\"text-align: right;\">\n",
       "      <th></th>\n",
       "      <th>Unnamed: 0</th>\n",
       "      <th>email_id</th>\n",
       "      <th>subject</th>\n",
       "      <th>content</th>\n",
       "      <th>cluster</th>\n",
       "    </tr>\n",
       "  </thead>\n",
       "  <tbody>\n",
       "    <tr>\n",
       "      <th>0</th>\n",
       "      <td>0</td>\n",
       "      <td>1764d7d6cf405a4a</td>\n",
       "      <td>Hi Asfina, 50-90% discounts on Binoculars, Hig...</td>\n",
       "      <td>\\r\\n\\r\\n\\r\\n\\r\\n\\r\\n&lt;html&gt;\\r\\n&lt;head&gt;\\r\\n&lt;meta ...</td>\n",
       "      <td>0</td>\n",
       "    </tr>\n",
       "    <tr>\n",
       "      <th>1</th>\n",
       "      <td>1</td>\n",
       "      <td>1764c9755fb56cf6</td>\n",
       "      <td>Quickstart was granted access to your Google A...</td>\n",
       "      <td>Quickstart was granted access to your Google A...</td>\n",
       "      <td>0</td>\n",
       "    </tr>\n",
       "    <tr>\n",
       "      <th>2</th>\n",
       "      <td>2</td>\n",
       "      <td>1764a836a842398f</td>\n",
       "      <td>Hi Asfina, 🍳🔪 For your kitchen: 90% off trendi...</td>\n",
       "      <td>\\r\\n\\r\\n\\r\\n\\r\\n\\r\\n&lt;html&gt;\\r\\n&lt;head&gt;\\r\\n&lt;meta ...</td>\n",
       "      <td>0</td>\n",
       "    </tr>\n",
       "    <tr>\n",
       "      <th>3</th>\n",
       "      <td>3</td>\n",
       "      <td>1764872b30de4209</td>\n",
       "      <td>Hi Asfina, Laptop clearance? 💻 Get a laptop co...</td>\n",
       "      <td>\\r\\n\\r\\n\\r\\n\\r\\n\\r\\n&lt;html&gt;\\r\\n&lt;head&gt;\\r\\n&lt;meta ...</td>\n",
       "      <td>0</td>\n",
       "    </tr>\n",
       "    <tr>\n",
       "      <th>4</th>\n",
       "      <td>4</td>\n",
       "      <td>176451a1985a5fd6</td>\n",
       "      <td>Hi Asfina, We&amp;#39;re giving away 100 winter ha...</td>\n",
       "      <td>\\r\\n\\r\\n\\r\\n\\r\\n\\r\\n&lt;html&gt;\\r\\n&lt;head&gt;\\r\\n&lt;meta ...</td>\n",
       "      <td>0</td>\n",
       "    </tr>\n",
       "  </tbody>\n",
       "</table>\n",
       "</div>"
      ],
      "text/plain": [
       "   Unnamed: 0          email_id  \\\n",
       "0           0  1764d7d6cf405a4a   \n",
       "1           1  1764c9755fb56cf6   \n",
       "2           2  1764a836a842398f   \n",
       "3           3  1764872b30de4209   \n",
       "4           4  176451a1985a5fd6   \n",
       "\n",
       "                                             subject  \\\n",
       "0  Hi Asfina, 50-90% discounts on Binoculars, Hig...   \n",
       "1  Quickstart was granted access to your Google A...   \n",
       "2  Hi Asfina, 🍳🔪 For your kitchen: 90% off trendi...   \n",
       "3  Hi Asfina, Laptop clearance? 💻 Get a laptop co...   \n",
       "4  Hi Asfina, We&#39;re giving away 100 winter ha...   \n",
       "\n",
       "                                             content  cluster  \n",
       "0  \\r\\n\\r\\n\\r\\n\\r\\n\\r\\n<html>\\r\\n<head>\\r\\n<meta ...        0  \n",
       "1  Quickstart was granted access to your Google A...        0  \n",
       "2  \\r\\n\\r\\n\\r\\n\\r\\n\\r\\n<html>\\r\\n<head>\\r\\n<meta ...        0  \n",
       "3  \\r\\n\\r\\n\\r\\n\\r\\n\\r\\n<html>\\r\\n<head>\\r\\n<meta ...        0  \n",
       "4  \\r\\n\\r\\n\\r\\n\\r\\n\\r\\n<html>\\r\\n<head>\\r\\n<meta ...        0  "
      ]
     },
     "execution_count": 9,
     "metadata": {},
     "output_type": "execute_result"
    }
   ],
   "source": [
    "df.head()"
   ]
  },
  {
   "cell_type": "code",
   "execution_count": 10,
   "metadata": {},
   "outputs": [
    {
     "data": {
      "text/html": [
       "<div>\n",
       "<style scoped>\n",
       "    .dataframe tbody tr th:only-of-type {\n",
       "        vertical-align: middle;\n",
       "    }\n",
       "\n",
       "    .dataframe tbody tr th {\n",
       "        vertical-align: top;\n",
       "    }\n",
       "\n",
       "    .dataframe thead th {\n",
       "        text-align: right;\n",
       "    }\n",
       "</style>\n",
       "<table border=\"1\" class=\"dataframe\">\n",
       "  <thead>\n",
       "    <tr style=\"text-align: right;\">\n",
       "      <th></th>\n",
       "      <th>Unnamed: 0</th>\n",
       "      <th>email_id</th>\n",
       "      <th>subject</th>\n",
       "      <th>content</th>\n",
       "      <th>cluster</th>\n",
       "    </tr>\n",
       "  </thead>\n",
       "  <tbody>\n",
       "    <tr>\n",
       "      <th>972</th>\n",
       "      <td>972</td>\n",
       "      <td>15ee337bd4cb0803</td>\n",
       "      <td>NaN</td>\n",
       "      <td>NaN</td>\n",
       "      <td>0</td>\n",
       "    </tr>\n",
       "  </tbody>\n",
       "</table>\n",
       "</div>"
      ],
      "text/plain": [
       "     Unnamed: 0          email_id subject content  cluster\n",
       "972         972  15ee337bd4cb0803     NaN     NaN        0"
      ]
     },
     "execution_count": 10,
     "metadata": {},
     "output_type": "execute_result"
    }
   ],
   "source": [
    "df[df['content'].isna()]\n",
    "df[df['content'].isna()]"
   ]
  },
  {
   "cell_type": "code",
   "execution_count": 11,
   "metadata": {},
   "outputs": [],
   "source": [
    "from sklearn.feature_extraction.text import TfidfVectorizer\n",
    "import nltk\n",
    "import string\n",
    "import re"
   ]
  },
  {
   "cell_type": "code",
   "execution_count": 12,
   "metadata": {},
   "outputs": [],
   "source": [
    "# nltk.download('all')"
   ]
  },
  {
   "cell_type": "code",
   "execution_count": 13,
   "metadata": {},
   "outputs": [
    {
     "name": "stdout",
     "output_type": "stream",
     "text": [
      "[nltk_data] Downloading package stopwords to /home/hb/nltk_data...\n",
      "[nltk_data]   Package stopwords is already up-to-date!\n"
     ]
    }
   ],
   "source": [
    "nltk.download('stopwords')\n",
    "##Remove stopwords (does not contribute much in sentence)\n",
    "stopword = nltk.corpus.stopwords.words('english')"
   ]
  },
  {
   "cell_type": "code",
   "execution_count": 14,
   "metadata": {},
   "outputs": [],
   "source": [
    "def beautify(text):\n",
    "    text = BeautifulSoup(str(text), \"lxml\").get_text()\n",
    "    return text"
   ]
  },
  {
   "cell_type": "code",
   "execution_count": 15,
   "metadata": {},
   "outputs": [],
   "source": [
    "df['beautify'] = df['content'].apply(lambda content: beautify(content))"
   ]
  },
  {
   "cell_type": "code",
   "execution_count": 24,
   "metadata": {},
   "outputs": [
    {
     "data": {
      "text/html": [
       "<div>\n",
       "<style scoped>\n",
       "    .dataframe tbody tr th:only-of-type {\n",
       "        vertical-align: middle;\n",
       "    }\n",
       "\n",
       "    .dataframe tbody tr th {\n",
       "        vertical-align: top;\n",
       "    }\n",
       "\n",
       "    .dataframe thead th {\n",
       "        text-align: right;\n",
       "    }\n",
       "</style>\n",
       "<table border=\"1\" class=\"dataframe\">\n",
       "  <thead>\n",
       "    <tr style=\"text-align: right;\">\n",
       "      <th></th>\n",
       "      <th>content</th>\n",
       "      <th>beautify</th>\n",
       "    </tr>\n",
       "  </thead>\n",
       "  <tbody>\n",
       "    <tr>\n",
       "      <th>0</th>\n",
       "      <td>\\r\\n\\r\\n\\r\\n\\r\\n\\r\\n&lt;html&gt;\\r\\n&lt;head&gt;\\r\\n&lt;meta ...</td>\n",
       "      <td>\\n\\n\\n 50-90% discounts on Binoculars, High Po...</td>\n",
       "    </tr>\n",
       "    <tr>\n",
       "      <th>1</th>\n",
       "      <td>Quickstart was granted access to your Google A...</td>\n",
       "      <td>Quickstart was granted access to your Google A...</td>\n",
       "    </tr>\n",
       "    <tr>\n",
       "      <th>2</th>\n",
       "      <td>\\r\\n\\r\\n\\r\\n\\r\\n\\r\\n&lt;html&gt;\\r\\n&lt;head&gt;\\r\\n&lt;meta ...</td>\n",
       "      <td>\\n\\n\\n 🍳🔪 For your kitchen: 90% off trending C...</td>\n",
       "    </tr>\n",
       "    <tr>\n",
       "      <th>3</th>\n",
       "      <td>\\r\\n\\r\\n\\r\\n\\r\\n\\r\\n&lt;html&gt;\\r\\n&lt;head&gt;\\r\\n&lt;meta ...</td>\n",
       "      <td>\\n\\n\\n Laptop clearance? 💻 Get a laptop comput...</td>\n",
       "    </tr>\n",
       "    <tr>\n",
       "      <th>4</th>\n",
       "      <td>\\r\\n\\r\\n\\r\\n\\r\\n\\r\\n&lt;html&gt;\\r\\n&lt;head&gt;\\r\\n&lt;meta ...</td>\n",
       "      <td>\\n\\n\\n We're giving away 100 winter hats right...</td>\n",
       "    </tr>\n",
       "  </tbody>\n",
       "</table>\n",
       "</div>"
      ],
      "text/plain": [
       "                                             content  \\\n",
       "0  \\r\\n\\r\\n\\r\\n\\r\\n\\r\\n<html>\\r\\n<head>\\r\\n<meta ...   \n",
       "1  Quickstart was granted access to your Google A...   \n",
       "2  \\r\\n\\r\\n\\r\\n\\r\\n\\r\\n<html>\\r\\n<head>\\r\\n<meta ...   \n",
       "3  \\r\\n\\r\\n\\r\\n\\r\\n\\r\\n<html>\\r\\n<head>\\r\\n<meta ...   \n",
       "4  \\r\\n\\r\\n\\r\\n\\r\\n\\r\\n<html>\\r\\n<head>\\r\\n<meta ...   \n",
       "\n",
       "                                            beautify  \n",
       "0  \\n\\n\\n 50-90% discounts on Binoculars, High Po...  \n",
       "1  Quickstart was granted access to your Google A...  \n",
       "2  \\n\\n\\n 🍳🔪 For your kitchen: 90% off trending C...  \n",
       "3  \\n\\n\\n Laptop clearance? 💻 Get a laptop comput...  \n",
       "4  \\n\\n\\n We're giving away 100 winter hats right...  "
      ]
     },
     "execution_count": 24,
     "metadata": {},
     "output_type": "execute_result"
    }
   ],
   "source": [
    "df[['content', 'beautify']].head()"
   ]
  },
  {
   "cell_type": "code",
   "execution_count": 25,
   "metadata": {},
   "outputs": [],
   "source": [
    "def removed_punc(text):\n",
    "    return \"\".join([char for char in text if char not in string.punctuation])"
   ]
  },
  {
   "cell_type": "code",
   "execution_count": 31,
   "metadata": {},
   "outputs": [],
   "source": [
    "df['no_punc'] = df['beautify'].apply(lambda content: removed_punc(content))"
   ]
  },
  {
   "cell_type": "code",
   "execution_count": 32,
   "metadata": {},
   "outputs": [
    {
     "data": {
      "text/html": [
       "<div>\n",
       "<style scoped>\n",
       "    .dataframe tbody tr th:only-of-type {\n",
       "        vertical-align: middle;\n",
       "    }\n",
       "\n",
       "    .dataframe tbody tr th {\n",
       "        vertical-align: top;\n",
       "    }\n",
       "\n",
       "    .dataframe thead th {\n",
       "        text-align: right;\n",
       "    }\n",
       "</style>\n",
       "<table border=\"1\" class=\"dataframe\">\n",
       "  <thead>\n",
       "    <tr style=\"text-align: right;\">\n",
       "      <th></th>\n",
       "      <th>beautify</th>\n",
       "      <th>no_punc</th>\n",
       "    </tr>\n",
       "  </thead>\n",
       "  <tbody>\n",
       "    <tr>\n",
       "      <th>0</th>\n",
       "      <td>\\n\\n\\n 50-90% discounts on Binoculars, High Po...</td>\n",
       "      <td>\\n\\n\\n 5090 discounts on Binoculars High Power...</td>\n",
       "    </tr>\n",
       "    <tr>\n",
       "      <th>1</th>\n",
       "      <td>Quickstart was granted access to your Google A...</td>\n",
       "      <td>Quickstart was granted access to your Google A...</td>\n",
       "    </tr>\n",
       "    <tr>\n",
       "      <th>2</th>\n",
       "      <td>\\n\\n\\n 🍳🔪 For your kitchen: 90% off trending C...</td>\n",
       "      <td>\\n\\n\\n 🍳🔪 For your kitchen 90 off trending Cut...</td>\n",
       "    </tr>\n",
       "    <tr>\n",
       "      <th>3</th>\n",
       "      <td>\\n\\n\\n Laptop clearance? 💻 Get a laptop comput...</td>\n",
       "      <td>\\n\\n\\n Laptop clearance 💻 Get a laptop compute...</td>\n",
       "    </tr>\n",
       "    <tr>\n",
       "      <th>4</th>\n",
       "      <td>\\n\\n\\n We're giving away 100 winter hats right...</td>\n",
       "      <td>\\n\\n\\n Were giving away 100 winter hats right ...</td>\n",
       "    </tr>\n",
       "  </tbody>\n",
       "</table>\n",
       "</div>"
      ],
      "text/plain": [
       "                                            beautify  \\\n",
       "0  \\n\\n\\n 50-90% discounts on Binoculars, High Po...   \n",
       "1  Quickstart was granted access to your Google A...   \n",
       "2  \\n\\n\\n 🍳🔪 For your kitchen: 90% off trending C...   \n",
       "3  \\n\\n\\n Laptop clearance? 💻 Get a laptop comput...   \n",
       "4  \\n\\n\\n We're giving away 100 winter hats right...   \n",
       "\n",
       "                                             no_punc  \n",
       "0  \\n\\n\\n 5090 discounts on Binoculars High Power...  \n",
       "1  Quickstart was granted access to your Google A...  \n",
       "2  \\n\\n\\n 🍳🔪 For your kitchen 90 off trending Cut...  \n",
       "3  \\n\\n\\n Laptop clearance 💻 Get a laptop compute...  \n",
       "4  \\n\\n\\n Were giving away 100 winter hats right ...  "
      ]
     },
     "execution_count": 32,
     "metadata": {},
     "output_type": "execute_result"
    }
   ],
   "source": [
    "df[['beautify', 'no_punc']].head()"
   ]
  },
  {
   "cell_type": "code",
   "execution_count": 33,
   "metadata": {},
   "outputs": [],
   "source": [
    "def tokenization(text):\n",
    "    return re.split('\\W+', text)"
   ]
  },
  {
   "cell_type": "code",
   "execution_count": 34,
   "metadata": {},
   "outputs": [],
   "source": [
    "df['tokenized'] = df['no_punc'].apply(lambda content: tokenization(content))"
   ]
  },
  {
   "cell_type": "code",
   "execution_count": 35,
   "metadata": {},
   "outputs": [
    {
     "data": {
      "text/html": [
       "<div>\n",
       "<style scoped>\n",
       "    .dataframe tbody tr th:only-of-type {\n",
       "        vertical-align: middle;\n",
       "    }\n",
       "\n",
       "    .dataframe tbody tr th {\n",
       "        vertical-align: top;\n",
       "    }\n",
       "\n",
       "    .dataframe thead th {\n",
       "        text-align: right;\n",
       "    }\n",
       "</style>\n",
       "<table border=\"1\" class=\"dataframe\">\n",
       "  <thead>\n",
       "    <tr style=\"text-align: right;\">\n",
       "      <th></th>\n",
       "      <th>no_punc</th>\n",
       "      <th>tokenized</th>\n",
       "    </tr>\n",
       "  </thead>\n",
       "  <tbody>\n",
       "    <tr>\n",
       "      <th>0</th>\n",
       "      <td>\\n\\n\\n 5090 discounts on Binoculars High Power...</td>\n",
       "      <td>[, 5090, discounts, on, Binoculars, High, Powe...</td>\n",
       "    </tr>\n",
       "    <tr>\n",
       "      <th>1</th>\n",
       "      <td>Quickstart was granted access to your Google A...</td>\n",
       "      <td>[Quickstart, was, granted, access, to, your, G...</td>\n",
       "    </tr>\n",
       "    <tr>\n",
       "      <th>2</th>\n",
       "      <td>\\n\\n\\n 🍳🔪 For your kitchen 90 off trending Cut...</td>\n",
       "      <td>[, For, your, kitchen, 90, off, trending, Cutt...</td>\n",
       "    </tr>\n",
       "    <tr>\n",
       "      <th>3</th>\n",
       "      <td>\\n\\n\\n Laptop clearance 💻 Get a laptop compute...</td>\n",
       "      <td>[, Laptop, clearance, Get, a, laptop, computer...</td>\n",
       "    </tr>\n",
       "    <tr>\n",
       "      <th>4</th>\n",
       "      <td>\\n\\n\\n Were giving away 100 winter hats right ...</td>\n",
       "      <td>[, Were, giving, away, 100, winter, hats, righ...</td>\n",
       "    </tr>\n",
       "  </tbody>\n",
       "</table>\n",
       "</div>"
      ],
      "text/plain": [
       "                                             no_punc  \\\n",
       "0  \\n\\n\\n 5090 discounts on Binoculars High Power...   \n",
       "1  Quickstart was granted access to your Google A...   \n",
       "2  \\n\\n\\n 🍳🔪 For your kitchen 90 off trending Cut...   \n",
       "3  \\n\\n\\n Laptop clearance 💻 Get a laptop compute...   \n",
       "4  \\n\\n\\n Were giving away 100 winter hats right ...   \n",
       "\n",
       "                                           tokenized  \n",
       "0  [, 5090, discounts, on, Binoculars, High, Powe...  \n",
       "1  [Quickstart, was, granted, access, to, your, G...  \n",
       "2  [, For, your, kitchen, 90, off, trending, Cutt...  \n",
       "3  [, Laptop, clearance, Get, a, laptop, computer...  \n",
       "4  [, Were, giving, away, 100, winter, hats, righ...  "
      ]
     },
     "execution_count": 35,
     "metadata": {},
     "output_type": "execute_result"
    }
   ],
   "source": [
    "df[['no_punc', 'tokenized']].head()"
   ]
  },
  {
   "cell_type": "code",
   "execution_count": 37,
   "metadata": {},
   "outputs": [],
   "source": [
    "def lower_case(tokens):\n",
    "    return [word.lower() for word in tokens]"
   ]
  },
  {
   "cell_type": "code",
   "execution_count": 38,
   "metadata": {},
   "outputs": [],
   "source": [
    "df['lower_case'] = df['tokenized'].apply(lambda content: lower_case(content))"
   ]
  },
  {
   "cell_type": "code",
   "execution_count": 39,
   "metadata": {},
   "outputs": [
    {
     "data": {
      "text/html": [
       "<div>\n",
       "<style scoped>\n",
       "    .dataframe tbody tr th:only-of-type {\n",
       "        vertical-align: middle;\n",
       "    }\n",
       "\n",
       "    .dataframe tbody tr th {\n",
       "        vertical-align: top;\n",
       "    }\n",
       "\n",
       "    .dataframe thead th {\n",
       "        text-align: right;\n",
       "    }\n",
       "</style>\n",
       "<table border=\"1\" class=\"dataframe\">\n",
       "  <thead>\n",
       "    <tr style=\"text-align: right;\">\n",
       "      <th></th>\n",
       "      <th>tokenized</th>\n",
       "      <th>lower_case</th>\n",
       "    </tr>\n",
       "  </thead>\n",
       "  <tbody>\n",
       "    <tr>\n",
       "      <th>0</th>\n",
       "      <td>[, 5090, discounts, on, Binoculars, High, Powe...</td>\n",
       "      <td>[, 5090, discounts, on, binoculars, high, powe...</td>\n",
       "    </tr>\n",
       "    <tr>\n",
       "      <th>1</th>\n",
       "      <td>[Quickstart, was, granted, access, to, your, G...</td>\n",
       "      <td>[quickstart, was, granted, access, to, your, g...</td>\n",
       "    </tr>\n",
       "    <tr>\n",
       "      <th>2</th>\n",
       "      <td>[, For, your, kitchen, 90, off, trending, Cutt...</td>\n",
       "      <td>[, for, your, kitchen, 90, off, trending, cutt...</td>\n",
       "    </tr>\n",
       "    <tr>\n",
       "      <th>3</th>\n",
       "      <td>[, Laptop, clearance, Get, a, laptop, computer...</td>\n",
       "      <td>[, laptop, clearance, get, a, laptop, computer...</td>\n",
       "    </tr>\n",
       "    <tr>\n",
       "      <th>4</th>\n",
       "      <td>[, Were, giving, away, 100, winter, hats, righ...</td>\n",
       "      <td>[, were, giving, away, 100, winter, hats, righ...</td>\n",
       "    </tr>\n",
       "  </tbody>\n",
       "</table>\n",
       "</div>"
      ],
      "text/plain": [
       "                                           tokenized  \\\n",
       "0  [, 5090, discounts, on, Binoculars, High, Powe...   \n",
       "1  [Quickstart, was, granted, access, to, your, G...   \n",
       "2  [, For, your, kitchen, 90, off, trending, Cutt...   \n",
       "3  [, Laptop, clearance, Get, a, laptop, computer...   \n",
       "4  [, Were, giving, away, 100, winter, hats, righ...   \n",
       "\n",
       "                                          lower_case  \n",
       "0  [, 5090, discounts, on, binoculars, high, powe...  \n",
       "1  [quickstart, was, granted, access, to, your, g...  \n",
       "2  [, for, your, kitchen, 90, off, trending, cutt...  \n",
       "3  [, laptop, clearance, get, a, laptop, computer...  \n",
       "4  [, were, giving, away, 100, winter, hats, righ...  "
      ]
     },
     "execution_count": 39,
     "metadata": {},
     "output_type": "execute_result"
    }
   ],
   "source": [
    "df[['tokenized', 'lower_case']].head()"
   ]
  },
  {
   "cell_type": "code",
   "execution_count": 44,
   "metadata": {},
   "outputs": [],
   "source": [
    "def no_stopwords(tokens):\n",
    "    text = [word for word in tokens if word not in stopword]\n",
    "    text = [word for word in text if len(word) > 1]\n",
    "    return text\n",
    "\n"
   ]
  },
  {
   "cell_type": "code",
   "execution_count": 45,
   "metadata": {},
   "outputs": [],
   "source": [
    "df['no_stopwords'] = df['lower_case'].apply(lambda content: no_stopwords(content))"
   ]
  },
  {
   "cell_type": "code",
   "execution_count": 46,
   "metadata": {},
   "outputs": [
    {
     "data": {
      "text/html": [
       "<div>\n",
       "<style scoped>\n",
       "    .dataframe tbody tr th:only-of-type {\n",
       "        vertical-align: middle;\n",
       "    }\n",
       "\n",
       "    .dataframe tbody tr th {\n",
       "        vertical-align: top;\n",
       "    }\n",
       "\n",
       "    .dataframe thead th {\n",
       "        text-align: right;\n",
       "    }\n",
       "</style>\n",
       "<table border=\"1\" class=\"dataframe\">\n",
       "  <thead>\n",
       "    <tr style=\"text-align: right;\">\n",
       "      <th></th>\n",
       "      <th>lower_case</th>\n",
       "      <th>no_stopwords</th>\n",
       "    </tr>\n",
       "  </thead>\n",
       "  <tbody>\n",
       "    <tr>\n",
       "      <th>0</th>\n",
       "      <td>[, 5090, discounts, on, binoculars, high, powe...</td>\n",
       "      <td>[5090, discounts, binoculars, high, power, fla...</td>\n",
       "    </tr>\n",
       "    <tr>\n",
       "      <th>1</th>\n",
       "      <td>[quickstart, was, granted, access, to, your, g...</td>\n",
       "      <td>[quickstart, granted, access, google, account,...</td>\n",
       "    </tr>\n",
       "    <tr>\n",
       "      <th>2</th>\n",
       "      <td>[, for, your, kitchen, 90, off, trending, cutt...</td>\n",
       "      <td>[kitchen, 90, trending, cutters, kitchen, rack...</td>\n",
       "    </tr>\n",
       "    <tr>\n",
       "      <th>3</th>\n",
       "      <td>[, laptop, clearance, get, a, laptop, computer...</td>\n",
       "      <td>[laptop, clearance, get, laptop, computer, 64,...</td>\n",
       "    </tr>\n",
       "    <tr>\n",
       "      <th>4</th>\n",
       "      <td>[, were, giving, away, 100, winter, hats, righ...</td>\n",
       "      <td>[giving, away, 100, winter, hats, right, outlo...</td>\n",
       "    </tr>\n",
       "  </tbody>\n",
       "</table>\n",
       "</div>"
      ],
      "text/plain": [
       "                                          lower_case  \\\n",
       "0  [, 5090, discounts, on, binoculars, high, powe...   \n",
       "1  [quickstart, was, granted, access, to, your, g...   \n",
       "2  [, for, your, kitchen, 90, off, trending, cutt...   \n",
       "3  [, laptop, clearance, get, a, laptop, computer...   \n",
       "4  [, were, giving, away, 100, winter, hats, righ...   \n",
       "\n",
       "                                        no_stopwords  \n",
       "0  [5090, discounts, binoculars, high, power, fla...  \n",
       "1  [quickstart, granted, access, google, account,...  \n",
       "2  [kitchen, 90, trending, cutters, kitchen, rack...  \n",
       "3  [laptop, clearance, get, laptop, computer, 64,...  \n",
       "4  [giving, away, 100, winter, hats, right, outlo...  "
      ]
     },
     "execution_count": 46,
     "metadata": {},
     "output_type": "execute_result"
    }
   ],
   "source": [
    "df[['lower_case', 'no_stopwords']].head()"
   ]
  },
  {
   "cell_type": "code",
   "execution_count": 47,
   "metadata": {},
   "outputs": [],
   "source": [
    "def clean_text(text):\n",
    "    text = BeautifulSoup(str(text), \"lxml\").get_text()\n",
    "    text_nopunct = \"\".join([char for char in text if char not in string.punctuation])\n",
    "    tokens = re.split('\\W+', text_nopunct)\n",
    "    tokens = [word.lower() for word in tokens]\n",
    "    text = [word for word in tokens if word not in stopword]\n",
    "    text = [word for word in text if len(word) > 1]\n",
    "    return text\n"
   ]
  },
  {
   "cell_type": "code",
   "execution_count": 48,
   "metadata": {},
   "outputs": [],
   "source": [
    "df['clean'] = df['subject'].apply(lambda x: clean_text(x))"
   ]
  },
  {
   "cell_type": "code",
   "execution_count": 49,
   "metadata": {},
   "outputs": [
    {
     "data": {
      "text/html": [
       "<div>\n",
       "<style scoped>\n",
       "    .dataframe tbody tr th:only-of-type {\n",
       "        vertical-align: middle;\n",
       "    }\n",
       "\n",
       "    .dataframe tbody tr th {\n",
       "        vertical-align: top;\n",
       "    }\n",
       "\n",
       "    .dataframe thead th {\n",
       "        text-align: right;\n",
       "    }\n",
       "</style>\n",
       "<table border=\"1\" class=\"dataframe\">\n",
       "  <thead>\n",
       "    <tr style=\"text-align: right;\">\n",
       "      <th></th>\n",
       "      <th>subject</th>\n",
       "      <th>clean</th>\n",
       "    </tr>\n",
       "  </thead>\n",
       "  <tbody>\n",
       "    <tr>\n",
       "      <th>0</th>\n",
       "      <td>Hi Asfina, 50-90% discounts on Binoculars, Hig...</td>\n",
       "      <td>[hi, asfina, 5090, discounts, binoculars, high...</td>\n",
       "    </tr>\n",
       "    <tr>\n",
       "      <th>1</th>\n",
       "      <td>Quickstart was granted access to your Google A...</td>\n",
       "      <td>[quickstart, granted, access, google, account,...</td>\n",
       "    </tr>\n",
       "    <tr>\n",
       "      <th>2</th>\n",
       "      <td>Hi Asfina, 🍳🔪 For your kitchen: 90% off trendi...</td>\n",
       "      <td>[hi, asfina, kitchen, 90, trending, cutters, k...</td>\n",
       "    </tr>\n",
       "    <tr>\n",
       "      <th>3</th>\n",
       "      <td>Hi Asfina, Laptop clearance? 💻 Get a laptop co...</td>\n",
       "      <td>[hi, asfina, laptop, clearance, get, laptop, c...</td>\n",
       "    </tr>\n",
       "    <tr>\n",
       "      <th>4</th>\n",
       "      <td>Hi Asfina, We&amp;#39;re giving away 100 winter ha...</td>\n",
       "      <td>[hi, asfina, giving, away, 100, winter, hats, ...</td>\n",
       "    </tr>\n",
       "  </tbody>\n",
       "</table>\n",
       "</div>"
      ],
      "text/plain": [
       "                                             subject  \\\n",
       "0  Hi Asfina, 50-90% discounts on Binoculars, Hig...   \n",
       "1  Quickstart was granted access to your Google A...   \n",
       "2  Hi Asfina, 🍳🔪 For your kitchen: 90% off trendi...   \n",
       "3  Hi Asfina, Laptop clearance? 💻 Get a laptop co...   \n",
       "4  Hi Asfina, We&#39;re giving away 100 winter ha...   \n",
       "\n",
       "                                               clean  \n",
       "0  [hi, asfina, 5090, discounts, binoculars, high...  \n",
       "1  [quickstart, granted, access, google, account,...  \n",
       "2  [hi, asfina, kitchen, 90, trending, cutters, k...  \n",
       "3  [hi, asfina, laptop, clearance, get, laptop, c...  \n",
       "4  [hi, asfina, giving, away, 100, winter, hats, ...  "
      ]
     },
     "execution_count": 49,
     "metadata": {},
     "output_type": "execute_result"
    }
   ],
   "source": [
    "df[['subject','clean']].head()"
   ]
  },
  {
   "cell_type": "code",
   "execution_count": 50,
   "metadata": {},
   "outputs": [],
   "source": [
    "vectorizer = TfidfVectorizer(stop_words='english', analyzer=clean_text)"
   ]
  },
  {
   "cell_type": "code",
   "execution_count": 51,
   "metadata": {},
   "outputs": [
    {
     "name": "stdout",
     "output_type": "stream",
     "text": [
      "\n",
      " Feature names Identified :\n",
      "\n"
     ]
    }
   ],
   "source": [
    "data_matrix=vectorizer.fit_transform(df['subject'])\n",
    "print(\"\\n Feature names Identified :\\n\")\n",
    "# print(vectorizer.get_feature_names())"
   ]
  },
  {
   "cell_type": "code",
   "execution_count": 52,
   "metadata": {},
   "outputs": [
    {
     "data": {
      "text/plain": [
       "['airport',\n",
       " 'akbar',\n",
       " 'al',\n",
       " 'alarm',\n",
       " 'alert',\n",
       " 'ali',\n",
       " 'allah',\n",
       " 'allama',\n",
       " 'alloy',\n",
       " 'allstar']"
      ]
     },
     "execution_count": 52,
     "metadata": {},
     "output_type": "execute_result"
    }
   ],
   "source": [
    "vectorizer.get_feature_names()[1000:1010]"
   ]
  },
  {
   "cell_type": "code",
   "execution_count": 53,
   "metadata": {},
   "outputs": [
    {
     "data": {
      "text/plain": [
       "(1206, 3489)"
      ]
     },
     "execution_count": 53,
     "metadata": {},
     "output_type": "execute_result"
    }
   ],
   "source": [
    "data_matrix.shape"
   ]
  },
  {
   "cell_type": "code",
   "execution_count": 54,
   "metadata": {},
   "outputs": [],
   "source": [
    "sentence = \"Your account is listed as the recovery email for  Dont recognize this account?\"\n",
    "sentence_vector = vectorizer.transform([sentence])\n"
   ]
  },
  {
   "cell_type": "code",
   "execution_count": 55,
   "metadata": {},
   "outputs": [
    {
     "data": {
      "text/plain": [
       "<1x3489 sparse matrix of type '<class 'numpy.float64'>'\n",
       "\twith 6 stored elements in Compressed Sparse Row format>"
      ]
     },
     "execution_count": 55,
     "metadata": {},
     "output_type": "execute_result"
    }
   ],
   "source": [
    "sentence_vector"
   ]
  },
  {
   "cell_type": "code",
   "execution_count": null,
   "metadata": {},
   "outputs": [],
   "source": []
  }
 ],
 "metadata": {
  "kernelspec": {
   "display_name": "Python 3",
   "language": "python",
   "name": "python3"
  },
  "language_info": {
   "codemirror_mode": {
    "name": "ipython",
    "version": 3
   },
   "file_extension": ".py",
   "mimetype": "text/x-python",
   "name": "python",
   "nbconvert_exporter": "python",
   "pygments_lexer": "ipython3",
   "version": "3.5.2"
  }
 },
 "nbformat": 4,
 "nbformat_minor": 2
}
